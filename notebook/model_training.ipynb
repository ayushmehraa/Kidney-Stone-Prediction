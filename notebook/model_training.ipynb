{
 "cells": [
  {
   "cell_type": "markdown",
   "metadata": {},
   "source": [
    "# Model Training"
   ]
  },
  {
   "cell_type": "code",
   "execution_count": 1,
   "metadata": {},
   "outputs": [],
   "source": [
    "import sklearn\n",
    "import numpy as np\n",
    "import pandas as pd\n",
    "import matplotlib as mpl\n",
    "import matplotlib.pyplot as plt\n",
    "import seaborn as sns\n",
    "mpl.rc('axes', labelsize=14)\n",
    "mpl.rc('xtick', labelsize=12)\n",
    "mpl.rc('ytick', labelsize=12)\n",
    "from cassandra.cluster import Cluster\n",
    "from cassandra.auth import PlainTextAuthProvider\n",
    "import pandas as pd\n",
    "import os\n",
    "from sklearn.pipeline import Pipeline\n",
    "from sklearn.preprocessing import StandardScaler\n",
    "from sklearn.model_selection import StratifiedKFold, train_test_split\n",
    "import xgboost \n",
    "from sklearn.metrics import roc_auc_score\n",
    "from colorama import Fore\n",
    "from sklearn.metrics import confusion_matrix\n",
    "from sklearn.model_selection import GridSearchCV\n",
    "from dotenv import load_dotenv\n",
    "from sklearn.linear_model import LogisticRegression\n",
    "from sklearn.metrics import classification_report, precision_score, recall_score, f1_score\n",
    "from sklearn.svm import SVC\n",
    "from sklearn.ensemble import RandomForestClassifier\n",
    "from sklearn.ensemble import AdaBoostClassifier\n",
    "from sklearn.tree import DecisionTreeClassifier\n",
    "import xgboost "
   ]
  },
  {
   "cell_type": "markdown",
   "metadata": {},
   "source": [
    "# Loading Data"
   ]
  },
  {
   "cell_type": "code",
   "execution_count": 2,
   "metadata": {},
   "outputs": [],
   "source": [
    "# load_dotenv()\n",
    "\n",
    "# secure_bundle = os.getenv('secure_bundle')\n",
    "# client_id = os.getenv('client_id')\n",
    "# client_secret = os.getenv('client_secret')\n",
    "\n",
    "# cloud_config= {\n",
    "#         'secure_connect_bundle': secure_bundle  \n",
    "# }\n",
    "\n",
    "# auth_provider = PlainTextAuthProvider(client_id, client_secret)\n",
    "# cluster = Cluster(cloud=cloud_config, auth_provider=auth_provider)\n",
    "# session = cluster.connect()\n",
    "\n",
    "# train_df = pd.DataFrame(list(session.execute('SELECT * FROM stroke.data;')))\n",
    "# train_df.drop(columns=[\"id\"],inplace=True)\n",
    "# train_df.tail(1)"
   ]
  },
  {
   "cell_type": "code",
   "execution_count": 3,
   "metadata": {},
   "outputs": [],
   "source": [
    "train_df = pd.read_csv(r\"D:\\jypyter notebooks\\kaggle\\datastax\\data\\raw_data.csv\")\n",
    "train_df.drop(columns=['id'],inplace=True)"
   ]
  },
  {
   "cell_type": "code",
   "execution_count": 4,
   "metadata": {},
   "outputs": [],
   "source": [
    "def change_dtype(df,col):\n",
    "    df[col] = df[col].astype(float)"
   ]
  },
  {
   "cell_type": "code",
   "execution_count": 5,
   "metadata": {},
   "outputs": [],
   "source": [
    "change_dtype(train_df,\"cond\")\n",
    "change_dtype(train_df,\"calc\")\n",
    "change_dtype(train_df,\"gravity\")\n",
    "change_dtype(train_df,\"ph\")\n",
    "change_dtype(train_df,\"ph\")"
   ]
  },
  {
   "cell_type": "code",
   "execution_count": 6,
   "metadata": {},
   "outputs": [
    {
     "data": {
      "text/plain": [
       "gravity    float64\n",
       "ph         float64\n",
       "osmo         int64\n",
       "cond       float64\n",
       "urea         int64\n",
       "calc       float64\n",
       "target       int64\n",
       "dtype: object"
      ]
     },
     "execution_count": 6,
     "metadata": {},
     "output_type": "execute_result"
    }
   ],
   "source": [
    "train_df.dtypes"
   ]
  },
  {
   "cell_type": "markdown",
   "metadata": {},
   "source": [
    "# Model Training"
   ]
  },
  {
   "cell_type": "code",
   "execution_count": 8,
   "metadata": {},
   "outputs": [
    {
     "data": {
      "text/html": [
       "<div>\n",
       "<style scoped>\n",
       "    .dataframe tbody tr th:only-of-type {\n",
       "        vertical-align: middle;\n",
       "    }\n",
       "\n",
       "    .dataframe tbody tr th {\n",
       "        vertical-align: top;\n",
       "    }\n",
       "\n",
       "    .dataframe thead th {\n",
       "        text-align: right;\n",
       "    }\n",
       "</style>\n",
       "<table border=\"1\" class=\"dataframe\">\n",
       "  <thead>\n",
       "    <tr style=\"text-align: right;\">\n",
       "      <th></th>\n",
       "      <th>gravity</th>\n",
       "      <th>ph</th>\n",
       "      <th>osmo</th>\n",
       "      <th>cond</th>\n",
       "      <th>urea</th>\n",
       "      <th>calc</th>\n",
       "    </tr>\n",
       "  </thead>\n",
       "  <tbody>\n",
       "    <tr>\n",
       "      <th>0</th>\n",
       "      <td>1.013</td>\n",
       "      <td>6.19</td>\n",
       "      <td>443</td>\n",
       "      <td>14.8</td>\n",
       "      <td>124</td>\n",
       "      <td>1.45</td>\n",
       "    </tr>\n",
       "    <tr>\n",
       "      <th>1</th>\n",
       "      <td>1.025</td>\n",
       "      <td>5.40</td>\n",
       "      <td>703</td>\n",
       "      <td>23.6</td>\n",
       "      <td>394</td>\n",
       "      <td>4.18</td>\n",
       "    </tr>\n",
       "    <tr>\n",
       "      <th>2</th>\n",
       "      <td>1.009</td>\n",
       "      <td>6.13</td>\n",
       "      <td>371</td>\n",
       "      <td>24.5</td>\n",
       "      <td>159</td>\n",
       "      <td>9.04</td>\n",
       "    </tr>\n",
       "    <tr>\n",
       "      <th>3</th>\n",
       "      <td>1.021</td>\n",
       "      <td>4.91</td>\n",
       "      <td>442</td>\n",
       "      <td>20.8</td>\n",
       "      <td>398</td>\n",
       "      <td>6.63</td>\n",
       "    </tr>\n",
       "    <tr>\n",
       "      <th>4</th>\n",
       "      <td>1.021</td>\n",
       "      <td>5.53</td>\n",
       "      <td>874</td>\n",
       "      <td>17.8</td>\n",
       "      <td>385</td>\n",
       "      <td>2.21</td>\n",
       "    </tr>\n",
       "  </tbody>\n",
       "</table>\n",
       "</div>"
      ],
      "text/plain": [
       "   gravity    ph  osmo  cond  urea  calc\n",
       "0    1.013  6.19   443  14.8   124  1.45\n",
       "1    1.025  5.40   703  23.6   394  4.18\n",
       "2    1.009  6.13   371  24.5   159  9.04\n",
       "3    1.021  4.91   442  20.8   398  6.63\n",
       "4    1.021  5.53   874  17.8   385  2.21"
      ]
     },
     "execution_count": 8,
     "metadata": {},
     "output_type": "execute_result"
    }
   ],
   "source": [
    "X = train_df.drop(columns=[\"target\"])\n",
    "X.head()"
   ]
  },
  {
   "cell_type": "code",
   "execution_count": 9,
   "metadata": {},
   "outputs": [],
   "source": [
    "from scipy.stats.mstats import winsorize\n",
    "\n",
    "outlier_columns = [\"gravity\", \"ph\", \"calc\"]\n",
    "for col in outlier_columns:\n",
    "    X.loc[:,col] = winsorize(X[col], (0.05, 0.05))"
   ]
  },
  {
   "cell_type": "code",
   "execution_count": 10,
   "metadata": {},
   "outputs": [
    {
     "data": {
      "text/plain": [
       "0      0\n",
       "1      0\n",
       "2      0\n",
       "3      1\n",
       "4      1\n",
       "      ..\n",
       "409    0\n",
       "410    0\n",
       "411    1\n",
       "412    1\n",
       "413    0\n",
       "Name: target, Length: 414, dtype: int64"
      ]
     },
     "execution_count": 10,
     "metadata": {},
     "output_type": "execute_result"
    }
   ],
   "source": [
    "y=  train_df['target']\n",
    "y"
   ]
  },
  {
   "cell_type": "code",
   "execution_count": 11,
   "metadata": {},
   "outputs": [],
   "source": [
    "data_pipline = Pipeline([\n",
    "    ('scaler',StandardScaler())\n",
    "])\n",
    "\n",
    "X = data_pipline.fit_transform(X)"
   ]
  },
  {
   "cell_type": "code",
   "execution_count": 12,
   "metadata": {},
   "outputs": [
    {
     "data": {
      "text/plain": [
       "((331, 6), (83, 6))"
      ]
     },
     "execution_count": 12,
     "metadata": {},
     "output_type": "execute_result"
    }
   ],
   "source": [
    "from sklearn.model_selection import train_test_split\n",
    "X_train, X_test, y_train, y_test = train_test_split(X,y,test_size=0.2,random_state=42)\n",
    "X_train.shape, X_test.shape"
   ]
  },
  {
   "cell_type": "code",
   "execution_count": 13,
   "metadata": {},
   "outputs": [],
   "source": [
    "def evaluate_model(true, predict_proba,predicted):\n",
    "    roc = roc_auc_score(true,predict_proba)\n",
    "    precision = precision_score(true,predicted)\n",
    "    recall = recall_score(true,predicted)\n",
    "    f1 = f1_score(true,predicted)\n",
    "    return roc, precision, recall, f1"
   ]
  },
  {
   "cell_type": "code",
   "execution_count": 14,
   "metadata": {},
   "outputs": [
    {
     "name": "stdout",
     "output_type": "stream",
     "text": [
      "Logistic Regression\n",
      "Model performance for Training set\n",
      "- Train Precision Score: 0.7565\n",
      "- Train Recall Score: 0.5959\n",
      "- Train f1 Score: 0.6667\n",
      "- Train Roc auc Score: 0.7930\n",
      "----------------------------------\n",
      "Model performance for test set\n",
      "- Test Precision Score: 0.7714\n",
      "- Test Recall Score: 0.7105\n",
      "- Test f1 Score: 0.7397\n",
      "- Test Roc auc Score: 0.8269\n",
      "===================================\n",
      "\n",
      "\n",
      "SVC\n",
      "Model performance for Training set\n",
      "- Train Precision Score: 0.7983\n",
      "- Train Recall Score: 0.6507\n",
      "- Train f1 Score: 0.7170\n",
      "- Train Roc auc Score: 0.8484\n",
      "----------------------------------\n",
      "Model performance for test set\n",
      "- Test Precision Score: 0.7667\n",
      "- Test Recall Score: 0.6053\n",
      "- Test f1 Score: 0.6765\n",
      "- Test Roc auc Score: 0.8322\n",
      "===================================\n",
      "\n",
      "\n"
     ]
    },
    {
     "name": "stdout",
     "output_type": "stream",
     "text": [
      "Random Forest Classifier\n",
      "Model performance for Training set\n",
      "- Train Precision Score: 1.0000\n",
      "- Train Recall Score: 1.0000\n",
      "- Train f1 Score: 1.0000\n",
      "- Train Roc auc Score: 1.0000\n",
      "----------------------------------\n",
      "Model performance for test set\n",
      "- Test Precision Score: 0.7353\n",
      "- Test Recall Score: 0.6579\n",
      "- Test f1 Score: 0.6944\n",
      "- Test Roc auc Score: 0.8164\n",
      "===================================\n",
      "\n",
      "\n",
      "AdaBoost Classifier\n",
      "Model performance for Training set\n",
      "- Train Precision Score: 0.7820\n",
      "- Train Recall Score: 0.7123\n",
      "- Train f1 Score: 0.7455\n",
      "- Train Roc auc Score: 0.8929\n",
      "----------------------------------\n",
      "Model performance for test set\n",
      "- Test Precision Score: 0.6923\n",
      "- Test Recall Score: 0.7105\n",
      "- Test f1 Score: 0.7013\n",
      "- Test Roc auc Score: 0.8000\n",
      "===================================\n",
      "\n",
      "\n",
      "xgboost Classifier\n",
      "Model performance for Training set\n",
      "- Train Precision Score: 1.0000\n",
      "- Train Recall Score: 1.0000\n",
      "- Train f1 Score: 1.0000\n",
      "- Train Roc auc Score: 1.0000\n",
      "----------------------------------\n",
      "Model performance for test set\n",
      "- Test Precision Score: 0.6757\n",
      "- Test Recall Score: 0.6579\n",
      "- Test f1 Score: 0.6667\n",
      "- Test Roc auc Score: 0.7579\n",
      "===================================\n",
      "\n",
      "\n",
      "Decision Tree\n",
      "Model performance for Training set\n",
      "- Train Precision Score: 1.0000\n",
      "- Train Recall Score: 1.0000\n",
      "- Train f1 Score: 1.0000\n",
      "- Train Roc auc Score: 1.0000\n",
      "----------------------------------\n",
      "Model performance for test set\n",
      "- Test Precision Score: 0.5161\n",
      "- Test Recall Score: 0.4211\n",
      "- Test f1 Score: 0.4638\n",
      "- Test Roc auc Score: 0.5439\n",
      "===================================\n",
      "\n",
      "\n"
     ]
    }
   ],
   "source": [
    "models = {\n",
    "    \"Logistic Regression\": LogisticRegression(),\n",
    "    \"SVC\": SVC(probability=True),\n",
    "    \"Random Forest Classifier\": RandomForestClassifier(),\n",
    "    \"AdaBoost Classifier\": AdaBoostClassifier(),\n",
    "    \"xgboost Classifier\": xgboost.XGBClassifier(),\n",
    "    \"Decision Tree\": DecisionTreeClassifier()\n",
    "}\n",
    "model_list = []\n",
    "test_roc_list =[]\n",
    "\n",
    "for i in range(len(list(models))):\n",
    "    model = list(models.values())[i]\n",
    "    model.fit(X_train, y_train) # Train model\n",
    "\n",
    "    # Make predictions\n",
    "    y_train_pred = model.predict(X_train)\n",
    "    y_train_pred_proba = model.predict_proba(X_train)[:,1]\n",
    "    y_test_pred = model.predict(X_test)\n",
    "    y_test_pred_proba = model.predict_proba(X_test)[:,1]\n",
    "    \n",
    "    # Evaluate Train and Test dataset\n",
    "    train_roc, train_precision, train_recall, train_f1 = evaluate_model(y_train, y_train_pred_proba,y_train_pred)\n",
    "\n",
    "    test_roc, test_precision, test_recall, test_f1 = evaluate_model(y_test, y_test_pred_proba,y_test_pred)\n",
    "    \n",
    "    print(list(models.keys())[i])\n",
    "    model_list.append(list(models.keys())[i])\n",
    "    \n",
    "    print('Model performance for Training set')\n",
    "    print(\"- Train Precision Score: {:.4f}\".format(train_precision))\n",
    "    print(\"- Train Recall Score: {:.4f}\".format(train_recall))\n",
    "    print(\"- Train f1 Score: {:.4f}\".format(train_f1))\n",
    "    print(\"- Train Roc auc Score: {:.4f}\".format(train_roc))\n",
    "\n",
    "    print('----------------------------------')\n",
    "\n",
    "    print('Model performance for test set')\n",
    "    print(\"- Test Precision Score: {:.4f}\".format(test_precision))\n",
    "    print(\"- Test Recall Score: {:.4f}\".format(test_recall))\n",
    "    print(\"- Test f1 Score: {:.4f}\".format(test_f1))\n",
    "    print(\"- Test Roc auc Score: {:.4f}\".format(test_roc))\n",
    "\n",
    "    test_roc_list.append(test_roc)\n",
    "    \n",
    "    print('='*35)\n",
    "    print('\\n')"
   ]
  },
  {
   "cell_type": "code",
   "execution_count": 15,
   "metadata": {},
   "outputs": [
    {
     "data": {
      "text/html": [
       "<div>\n",
       "<style scoped>\n",
       "    .dataframe tbody tr th:only-of-type {\n",
       "        vertical-align: middle;\n",
       "    }\n",
       "\n",
       "    .dataframe tbody tr th {\n",
       "        vertical-align: top;\n",
       "    }\n",
       "\n",
       "    .dataframe thead th {\n",
       "        text-align: right;\n",
       "    }\n",
       "</style>\n",
       "<table border=\"1\" class=\"dataframe\">\n",
       "  <thead>\n",
       "    <tr style=\"text-align: right;\">\n",
       "      <th></th>\n",
       "      <th>Model Name</th>\n",
       "      <th>R2_Score</th>\n",
       "    </tr>\n",
       "  </thead>\n",
       "  <tbody>\n",
       "    <tr>\n",
       "      <th>1</th>\n",
       "      <td>SVC</td>\n",
       "      <td>0.832164</td>\n",
       "    </tr>\n",
       "    <tr>\n",
       "      <th>0</th>\n",
       "      <td>Logistic Regression</td>\n",
       "      <td>0.826901</td>\n",
       "    </tr>\n",
       "    <tr>\n",
       "      <th>2</th>\n",
       "      <td>Random Forest Classifier</td>\n",
       "      <td>0.816374</td>\n",
       "    </tr>\n",
       "    <tr>\n",
       "      <th>3</th>\n",
       "      <td>AdaBoost Classifier</td>\n",
       "      <td>0.800000</td>\n",
       "    </tr>\n",
       "    <tr>\n",
       "      <th>4</th>\n",
       "      <td>xgboost Classifier</td>\n",
       "      <td>0.757895</td>\n",
       "    </tr>\n",
       "    <tr>\n",
       "      <th>5</th>\n",
       "      <td>Decision Tree</td>\n",
       "      <td>0.543860</td>\n",
       "    </tr>\n",
       "  </tbody>\n",
       "</table>\n",
       "</div>"
      ],
      "text/plain": [
       "                 Model Name  R2_Score\n",
       "1                       SVC  0.832164\n",
       "0       Logistic Regression  0.826901\n",
       "2  Random Forest Classifier  0.816374\n",
       "3       AdaBoost Classifier  0.800000\n",
       "4        xgboost Classifier  0.757895\n",
       "5             Decision Tree  0.543860"
      ]
     },
     "execution_count": 15,
     "metadata": {},
     "output_type": "execute_result"
    }
   ],
   "source": [
    "pd.DataFrame(list(zip(model_list, test_roc_list)), columns=['Model Name', 'R2_Score']).sort_values(by=[\"R2_Score\"],ascending=False)"
   ]
  },
  {
   "cell_type": "code",
   "execution_count": 46,
   "metadata": {},
   "outputs": [
    {
     "name": "stdout",
     "output_type": "stream",
     "text": [
      " ROC Score of the model is 0.8322\n"
     ]
    }
   ],
   "source": [
    "svc = SVC(probability=True)\n",
    "svc.fit(X_train, y_train)\n",
    "y_pred = svc.predict_proba(X_test)[:,1]\n",
    "score = roc_auc_score(y_test,y_pred)\n",
    "print(\" ROC Score of the model is %.4f\" %score)"
   ]
  },
  {
   "cell_type": "code",
   "execution_count": 54,
   "metadata": {},
   "outputs": [
    {
     "name": "stdout",
     "output_type": "stream",
     "text": [
      "classification report : \n",
      "               precision    recall  f1-score   support\n",
      "\n",
      "           0       0.72      0.84      0.78        45\n",
      "           1       0.77      0.61      0.68        38\n",
      "\n",
      "    accuracy                           0.73        83\n",
      "   macro avg       0.74      0.72      0.73        83\n",
      "weighted avg       0.74      0.73      0.73        83\n",
      "\n"
     ]
    }
   ],
   "source": [
    "pred = svc.predict(X_test)\n",
    "print(\"classification report : \\n\",classification_report(y_test,pred))"
   ]
  }
 ],
 "metadata": {
  "kernelspec": {
   "display_name": "Python 3",
   "language": "python",
   "name": "python3"
  },
  "language_info": {
   "codemirror_mode": {
    "name": "ipython",
    "version": 3
   },
   "file_extension": ".py",
   "mimetype": "text/x-python",
   "name": "python",
   "nbconvert_exporter": "python",
   "pygments_lexer": "ipython3",
   "version": "3.11.3"
  },
  "orig_nbformat": 4
 },
 "nbformat": 4,
 "nbformat_minor": 2
}
